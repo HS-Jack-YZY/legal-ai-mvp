{
 "cells": [
  {
   "cell_type": "markdown",
   "id": "a0755e36",
   "metadata": {},
   "source": [
    "### **Python 四大核心数据结构**\n",
    "\n",
    "| 数据结构              | 类比           | 特点                                 | 核心用途                                            |\n",
    "| :-------------------- | :------------- | :----------------------------------- | :-------------------------------------------------- |\n",
    "| **List (列表)**       | **购物清单**   | 有序、可变、可重复                   | 存储一系列需要按顺序访问或修改的元素。              |\n",
    "| **Tuple (元组)**      | **GPS坐标**    | 有序、**不可变**、可重复             | 存储一系列不希望被修改的数据，如配置、坐标、记录。  |\n",
    "| **Dictionary (字典)** | **通讯录**     | **无序(3.7+有序)**、可变、**键唯一** | 存储键值对(Key-Value)，通过唯一的名称快速查找信息。 |\n",
    "| **Set (集合)**        | **班级点名册** | 无序、可变、**元素唯一**             | 去重、成员检查、数学集合运算（交集、并集）。        |"
   ]
  },
  {
   "cell_type": "markdown",
   "id": "d7d37a4f",
   "metadata": {},
   "source": [
    "### **1. List (列表) - 你的多功能工具箱**\n",
    "\n",
    "列表是Python中使用最频繁的数据结构。就像一张购物清单，你可以随时添加、删除、修改上面的项目，并且项目的顺序很重要。"
   ]
  },
  {
   "cell_type": "code",
   "execution_count": 7,
   "id": "bfd55544",
   "metadata": {},
   "outputs": [
    {
     "name": "stdout",
     "output_type": "stream",
     "text": [
      "原始购物清单：['milk', 'eggs', 'bread', 'eggs']\n",
      "第一个要买的是：milk\n",
      "最后一个要买的是：eggs\n",
      "添加苹果后：['milk', 'eggs', 'bread', 'eggs', 'apples']\n",
      "在第二个位置插入酸奶后：['milk', '酸奶', 'eggs', 'bread', 'eggs', 'apples']\n",
      "不想买最后一个商品'apples'了，剩下：['脱脂牛奶', '酸奶', 'bread', 'eggs']\n",
      "清单上有 4 件物品\n",
      "别忘了买面包！\n",
      "排序后的数字：[1, 1, 2, 3, 4, 5, 9]\n",
      "\n",
      "最终购物清单：\n",
      "- 脱脂牛奶\n",
      "- 酸奶\n",
      "- bread\n",
      "- eggs\n"
     ]
    }
   ],
   "source": [
    "# --- 1. 创建列表 ---\n",
    "# 你需要买的菜\n",
    "groceries = [\"milk\", \"eggs\", \"bread\", \"eggs\"]\n",
    "print(f\"原始购物清单：{groceries}\")\n",
    "\n",
    "# --- 2. 核心操作 ---\n",
    "\n",
    "# 访问元素 (索引从0开始)\n",
    "print(f\"第一个要买的是：{groceries[0]}\")\n",
    "print(f\"最后一个要买的是：{groceries[-1]}\")\n",
    "\n",
    "# 添加元素\n",
    "groceries.append(\"apples\")\n",
    "print(f\"添加苹果后：{groceries}\")\n",
    "groceries.insert(1, \"酸奶\")\n",
    "print(f\"在第二个位置插入酸奶后：{groceries}\")\n",
    "\n",
    "# 修改元素\n",
    "groceries[0] = \"脱脂牛奶\"\n",
    "\n",
    "# 删除元素\n",
    "groceries.remove(\"eggs\")\n",
    "last_item = groceries.pop()\n",
    "print(f\"不想买最后一个商品'{last_item}'了，剩下：{groceries}\")\n",
    "\n",
    "# 常用方法\n",
    "\n",
    "print(f\"清单上有 {len(groceries)} 件物品\")\n",
    "\n",
    "if \"bread\" in groceries:\n",
    "    print(\"别忘了买面包！\")\n",
    "\n",
    "\n",
    "# 排序\n",
    "numbers = [3, 1, 4, 1, 5, 9, 2]\n",
    "numbers.sort()\n",
    "print(f\"排序后的数字：{numbers}\")\n",
    "\n",
    "# 遍历（最常见的方法）\n",
    "print(\"\\n最终购物清单：\")\n",
    "for item in groceries:\n",
    "    print(f\"- {item}\")"
   ]
  },
  {
   "cell_type": "markdown",
   "id": "c84b77e9",
   "metadata": {},
   "source": [
    "**关键点**: `list` 是可变的 (`mutable`)，这意味着你对它的所有修改都是在原始列表上进行的。"
   ]
  },
  {
   "cell_type": "markdown",
   "id": "24bf809c",
   "metadata": {},
   "source": [
    "### **2. Tuple (元组) - 不可篡改的记录**\n",
    "\n",
    "元组就像一个被“固化”的列表。一旦创建，就不能再添加、删除或修改其中的元素。这提供了数据的安全性。"
   ]
  },
  {
   "cell_type": "code",
   "execution_count": null,
   "id": "85d52eaf",
   "metadata": {},
   "outputs": [
    {
     "name": "stdout",
     "output_type": "stream",
     "text": [
      "Alice is a 25-year-old Engineer.\n",
      "北京的人口（万）：2154\n"
     ]
    }
   ],
   "source": [
    "# --- 1. 创建元组 ---\n",
    "# 一个点的GPS坐标 (经度, 纬度)\n",
    "# 注意是用圆括号 ()\n",
    "location = (116.404, 39.915) \n",
    "print(f\"北京的坐标是: {location}\")\n",
    "\n",
    "# --- 2. 核心操作 ---\n",
    "\n",
    "# 访问元素 (和列表一样)\n",
    "longitude = location[0]\n",
    "latitude = location[1]\n",
    "print(f\"经度: {longitude}, 纬度: {latitude}\")\n",
    "\n",
    "# ！！！尝试修改会报错！！！\n",
    "# location[0] = 117  # 这行代码会引发 TypeError\n",
    "\n",
    "# --- 3. 常用场景 ---\n",
    "\n",
    "# 1. 函数返回多个值\n",
    "def get_user_info():\n",
    "    # 实际应用中可能是从数据库读取\n",
    "    return \"Alice\", 25, \"Engineer\"\n",
    "\n",
    "name, age, occupation = get_user_info() # 这就是元组解包 (unpacking)\n",
    "print(f\"{name} is a {age}-year-old {occupation}.\")\n",
    "\n",
    "# 2. 作为字典的键 (因为它是不可变的)\n",
    "# 列表不能作为键，元组可以\n",
    "city_population = {\n",
    "    (\"北京\", \"中国\"): 2154,\n",
    "    (\"东京\", \"日本\"): 1396\n",
    "}\n",
    "print(f\"北京的人口(万): {city_population[('北京', '中国')]}\")"
   ]
  },
  {
   "cell_type": "markdown",
   "id": "33b26ab7",
   "metadata": {},
   "source": [
    "### **3. Dictionary (字典) - 按名字查找**\n",
    "\n",
    "字典让你告别数字索引，用有意义的“键”（Key）来存取“值”（Value）。就像通讯录，你用“张三”这个名字（键）来查找他的电话号码（值）。"
   ]
  },
  {
   "cell_type": "code",
   "execution_count": null,
   "id": "574902b2",
   "metadata": {},
   "outputs": [
    {
     "name": "stdout",
     "output_type": "stream",
     "text": [
      "个人信息: {'name': '张三', 'age': 30, 'city': '上海', 'skills': ['Python', 'SQL', 'Git']}\n",
      "姓名: 张三\n",
      "年龄: None\n",
      "更新后的信息: {'name': '张三', 'age': 30, 'city': '北京', 'skills': ['Python', 'SQL', 'Git'], 'email': 'zhangsan@example.com'}\n",
      "删除年龄后: {'name': '张三', 'city': '北京', 'skills': ['Python', 'SQL', 'Git'], 'email': 'zhangsan@example.com'}\n",
      "邮箱地址是: zhangsan@example.com\n",
      "\n",
      "遍历字典:\n",
      "键: name\n",
      "键: city\n",
      "键: skills\n",
      "键: email\n",
      "值: 张三\n",
      "值: 北京\n",
      "值: ['Python', 'SQL', 'Git']\n",
      "值: zhangsan@example.com\n",
      "name: 张三\n",
      "city: 北京\n",
      "skills: ['Python', 'SQL', 'Git']\n",
      "email: zhangsan@example.com\n"
     ]
    }
   ],
   "source": [
    "# --- 1. 创建字典 ---\n",
    "# 个人信息\n",
    "person = {\n",
    "    \"name\": \"张三\",\n",
    "    \"age\": 30,\n",
    "    \"city\": \"上海\",\n",
    "    \"skills\": [\"Python\", \"SQL\", \"Git\"] # 值可以是任何数据类型，包括列表\n",
    "}\n",
    "print(f\"个人信息: {person}\")\n",
    "\n",
    "# --- 2. 核心操作 ---\n",
    "\n",
    "# 访问值\n",
    "print(f\"姓名: {person['name']}\")            # 使用方括号，如果键不存在会报错\n",
    "print(f\"年龄: {person.get('age')}\")        # 使用.get()，如果键不存在返回None，更安全\n",
    "\n",
    "# 添加或修改键值对\n",
    "person['email'] = \"zhangsan@example.com\"  # 添加新键值对\n",
    "person['city'] = \"北京\"                     # 修改已存在的键值\n",
    "print(f\"更新后的信息: {person}\")\n",
    "\n",
    "# 删除键值对\n",
    "del person['age']\n",
    "print(f\"删除年龄后: {person}\")\n",
    "\n",
    "# --- 3. 常用方法 ---\n",
    "\n",
    "# 检查键是否存在\n",
    "if 'email' in person:\n",
    "    print(f\"邮箱地址是: {person['email']}\")\n",
    "\n",
    "# 遍历\n",
    "print(\"\\n遍历字典:\")\n",
    "# 遍历键\n",
    "for key in person.keys():\n",
    "    print(f\"键: {key}\")\n",
    "\n",
    "# 遍历值\n",
    "for value in person.values():\n",
    "    print(f\"值: {value}\")\n",
    "\n",
    "# 遍历键值对 (最常用)\n",
    "for key, value in person.items():\n",
    "    print(f\"{key}: {value}\")"
   ]
  },
  {
   "cell_type": "markdown",
   "id": "fa4b85ca",
   "metadata": {},
   "source": [
    "**关键点**: `dict` 通过唯一的、不可变的键来快速存取数据。查找速度极快。"
   ]
  },
  {
   "cell_type": "markdown",
   "id": "0d332782",
   "metadata": {},
   "source": [
    "### **4. Set (集合) - 唯一与关系**\n",
    "\n",
    "集合最大的特点就是 **元素不重复**。非常适合用来去重和进行成员资格测试。"
   ]
  },
  {
   "cell_type": "code",
   "execution_count": 16,
   "id": "8a4eed46",
   "metadata": {},
   "outputs": [
    {
     "name": "stdout",
     "output_type": "stream",
     "text": [
      "最终到场人员 (自动去重): {'Charlie', 'Alice', 'David', 'Bob'}\n",
      "列表去重后: {1, 2, 3, 4, 5}\n",
      "新来了一个人: {'Alice', 'Bob', 'David', 'Eve', 'Charlie'}\n",
      "Bob又想报名一次: {'Alice', 'Bob', 'David', 'Eve', 'Charlie'}\n",
      "David走了: {'Alice', 'Bob', 'Eve', 'Charlie'}\n",
      "同时上Python和数学课的: {'Eve'}\n",
      "所有学生: {'Charlie', 'Alice', 'Bob', 'David', 'Eve'}\n",
      "只上Python课的: {'Alice', 'Bob'}\n"
     ]
    }
   ],
   "source": [
    "# --- 1. 创建集合 ---\n",
    "# 参加一个活动的人员名单，有人重复报名了\n",
    "attendees = {\"Alice\", \"Bob\", \"Charlie\", \"Alice\", \"David\"}\n",
    "print(f\"最终到场人员 (自动去重): {attendees}\")\n",
    "\n",
    "# 从列表创建集合来去重\n",
    "numbers = [1, 2, 2, 3, 4, 4, 4, 5]\n",
    "unique_numbers = set(numbers)\n",
    "print(f\"列表去重后: {unique_numbers}\")\n",
    "\n",
    "# --- 2. 核心操作 ---\n",
    "\n",
    "# 添加元素\n",
    "attendees.add(\"Eve\")\n",
    "print(f\"新来了一个人: {attendees}\")\n",
    "attendees.add(\"Bob\") # 再次添加Bob，集合不会有任何变化\n",
    "print(f\"Bob又想报名一次: {attendees}\")\n",
    "\n",
    "# 删除元素\n",
    "attendees.remove(\"David\") # 如果元素不存在会报错\n",
    "attendees.discard(\"Frank\") # 如果元素不存在，什么也不做，更安全\n",
    "print(f\"David走了: {attendees}\")\n",
    "\n",
    "# --- 3. 数学运算 (非常强大) ---\n",
    "python_class = {\"Alice\", \"Bob\", \"Eve\"}\n",
    "math_class = {\"Charlie\", \"David\", \"Eve\"}\n",
    "\n",
    "# 交集 (都参加了两门课的人)\n",
    "both_classes = python_class.intersection(math_class)\n",
    "print(f\"同时上Python和数学课的: {both_classes}\")\n",
    "\n",
    "# 并集 (所有参加了课程的人)\n",
    "all_students = python_class.union(math_class)\n",
    "print(f\"所有学生: {all_students}\")\n",
    "\n",
    "# 差集 (只上Python课，没上数学课的人)\n",
    "only_python = python_class.difference(math_class)\n",
    "print(f\"只上Python课的: {only_python}\")"
   ]
  }
 ],
 "metadata": {
  "kernelspec": {
   "display_name": "legal_ai_mvp",
   "language": "python",
   "name": "python3"
  },
  "language_info": {
   "codemirror_mode": {
    "name": "ipython",
    "version": 3
   },
   "file_extension": ".py",
   "mimetype": "text/x-python",
   "name": "python",
   "nbconvert_exporter": "python",
   "pygments_lexer": "ipython3",
   "version": "3.10.18"
  }
 },
 "nbformat": 4,
 "nbformat_minor": 5
}
