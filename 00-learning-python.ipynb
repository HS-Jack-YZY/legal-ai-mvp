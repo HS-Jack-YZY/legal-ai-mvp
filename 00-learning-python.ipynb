{
 "cells": [
  {
   "cell_type": "code",
   "execution_count": 1,
   "id": "ab7342d8",
   "metadata": {},
   "outputs": [
    {
     "name": "stdout",
     "output_type": "stream",
     "text": [
      "Student __init__ called\n",
      "Person __init__ called\n",
      "Name: Alice, Age: 20\n",
      "Student ID: s12345\n"
     ]
    }
   ],
   "source": [
    "class Person:\n",
    "    def __init__(self, name, age):\n",
    "        print(\"Person __init__ called\")\n",
    "        self.name = name\n",
    "        self.age = age\n",
    "\n",
    "    def display_info(self):\n",
    "        print(f\"Name: {self.name}, Age: {self.age}\")\n",
    "\n",
    "# Student inherits from Person\n",
    "class Student(Person):\n",
    "    def __init__(self, name, age, student_id):\n",
    "        print(\"Student __init__ called\")\n",
    "        # Call the __init__ of the parent class (Person)\n",
    "        super().__init__(name, age) \n",
    "        # Now, add the new attribute for the Student class\n",
    "        self.student_id = student_id\n",
    "\n",
    "    def display_info(self):\n",
    "        # First, call the parent's display_info method\n",
    "        super().display_info()\n",
    "        # Then, add the student-specific information\n",
    "        print(f\"Student ID: {self.student_id}\")\n",
    "\n",
    "# Create an instance of Student\n",
    "student1 = Student(\"Alice\", 20, \"s12345\")\n",
    "student1.display_info()"
   ]
  },
  {
   "cell_type": "code",
   "execution_count": null,
   "id": "519bc31c",
   "metadata": {},
   "outputs": [],
   "source": []
  }
 ],
 "metadata": {
  "kernelspec": {
   "display_name": "legal_ai_mvp",
   "language": "python",
   "name": "python3"
  },
  "language_info": {
   "codemirror_mode": {
    "name": "ipython",
    "version": 3
   },
   "file_extension": ".py",
   "mimetype": "text/x-python",
   "name": "python",
   "nbconvert_exporter": "python",
   "pygments_lexer": "ipython3",
   "version": "3.10.18"
  }
 },
 "nbformat": 4,
 "nbformat_minor": 5
}
