{
 "cells": [
  {
   "cell_type": "code",
   "execution_count": null,
   "id": "1444c648",
   "metadata": {},
   "outputs": [],
   "source": [
    "import torch\n",
    "import torch.nn as nn\n",
    "import torch.optim as optim"
   ]
  },
  {
   "cell_type": "code",
   "execution_count": 18,
   "id": "d93f04b8",
   "metadata": {},
   "outputs": [],
   "source": [
    "class SimpleClassifier(nn.Module):\n",
    "    def __init__(self):\n",
    "        super(SimpleClassifier, self).__init__()\n",
    "\n",
    "        self.layer1 = nn.Linear(in_features=10, out_features=8)\n",
    "        self.activation1 = nn.ReLU()\n",
    "\n",
    "        self.layer2 = nn.Linear(in_features=8, out_features=1)\n",
    "        self.output_activation = nn.Sigmoid()\n",
    "\n",
    "    def forward(self, x):\n",
    "        x = self.layer1(x)\n",
    "        x = self.activation1(x)\n",
    "        x = self.layer2(x)\n",
    "        x = self.output_activation(x)\n",
    "\n",
    "        return x"
   ]
  },
  {
   "cell_type": "code",
   "execution_count": 19,
   "id": "887123b6",
   "metadata": {},
   "outputs": [
    {
     "name": "stdout",
     "output_type": "stream",
     "text": [
      "SimpleClassifier(\n",
      "  (layer1): Linear(in_features=10, out_features=8, bias=True)\n",
      "  (activation1): ReLU()\n",
      "  (layer2): Linear(in_features=8, out_features=1, bias=True)\n",
      "  (output_activation): Sigmoid()\n",
      ")\n"
     ]
    }
   ],
   "source": [
    "model = SimpleClassifier()\n",
    "\n",
    "print(model)"
   ]
  },
  {
   "cell_type": "code",
   "execution_count": 20,
   "id": "adbb63a8",
   "metadata": {},
   "outputs": [],
   "source": [
    "X_train = torch.randn(100, 10)\n",
    "y_train = torch.randint(0, 2, (100, 1)).float()"
   ]
  },
  {
   "cell_type": "code",
   "execution_count": 21,
   "id": "c4907520",
   "metadata": {},
   "outputs": [],
   "source": [
    "criterian = nn.BCELoss()\n",
    "optimizer = optim.Adam(model.parameters(), lr=0.001)"
   ]
  },
  {
   "cell_type": "code",
   "execution_count": null,
   "id": "980cf422",
   "metadata": {},
   "outputs": [
    {
     "name": "stdout",
     "output_type": "stream",
     "text": [
      "Epoch [10/100], Loss: 0.6895\n",
      "Epoch [20/100], Loss: 0.6844\n",
      "Epoch [30/100], Loss: 0.6797\n",
      "Epoch [40/100], Loss: 0.6750\n",
      "Epoch [50/100], Loss: 0.6707\n",
      "Epoch [60/100], Loss: 0.6664\n",
      "Epoch [70/100], Loss: 0.6621\n",
      "Epoch [80/100], Loss: 0.6577\n",
      "Epoch [90/100], Loss: 0.6534\n",
      "Epoch [100/100], Loss: 0.6491\n"
     ]
    }
   ],
   "source": [
    "num_epochs = 100\n",
    "\n",
    "for epoch in range(num_epochs):\n",
    "    model.train()\n",
    "    outputs = model(X_train)\n",
    "    loss = criterian(outputs, y_train)\n",
    "\n",
    "    optimizer.zero_grad()\n",
    "    loss.backward()\n",
    "    optimizer.step()\n",
    "\n",
    "    # Print progress\n",
    "    if (epoch + 1) % 10 == 0:\n",
    "        print(f\"Epoch [{epoch + 1}/{num_epochs}], Loss: {loss.item():.4f}\")\n"
   ]
  },
  {
   "cell_type": "code",
   "execution_count": null,
   "id": "b090d367",
   "metadata": {},
   "outputs": [
    {
     "name": "stdout",
     "output_type": "stream",
     "text": [
      "Raw prediction (probability): 0.6949\n",
      "Final prediction (class): 1\n"
     ]
    }
   ],
   "source": [
    "# Create some new, unseen data\n",
    "X_new = torch.randn(1, 10)  # A single sample with 10 features\n",
    "\n",
    "# Set the model to evaluation mode\n",
    "model.eval()\n",
    "\n",
    "# We don't need to calculate gradients for inference\n",
    "with torch.no_grad():\n",
    "    # Get the raw output (a probability)\n",
    "    raw_prediction = model(X_new)\n",
    "    print(f\"Raw prediction (probability): {raw_prediction.item():.4f}\")\n",
    "\n",
    "    # Apply the decision boundary to get a 0 or 1\n",
    "    if raw_prediction.item() > 0.5:\n",
    "        final_prediction = 1\n",
    "    else:\n",
    "        final_prediction = 0\n",
    "\n",
    "    print(f\"Final prediction (class): {final_prediction}\")"
   ]
  },
  {
   "cell_type": "code",
   "execution_count": null,
   "id": "f45f7a11",
   "metadata": {},
   "outputs": [],
   "source": []
  }
 ],
 "metadata": {
  "kernelspec": {
   "display_name": "legal_ai_mvp",
   "language": "python",
   "name": "python3"
  },
  "language_info": {
   "codemirror_mode": {
    "name": "ipython",
    "version": 3
   },
   "file_extension": ".py",
   "mimetype": "text/x-python",
   "name": "python",
   "nbconvert_exporter": "python",
   "pygments_lexer": "ipython3",
   "version": "3.10.18"
  }
 },
 "nbformat": 4,
 "nbformat_minor": 5
}
