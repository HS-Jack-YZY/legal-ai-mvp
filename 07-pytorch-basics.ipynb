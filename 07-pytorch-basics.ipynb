{
 "cells": [
  {
   "cell_type": "code",
   "execution_count": null,
   "id": "fc1bfe01",
   "metadata": {},
   "outputs": [
    {
     "name": "stdout",
     "output_type": "stream",
     "text": [
      "PyTorch version: 2.7.1\n",
      "GPU is available: False\n"
     ]
    }
   ],
   "source": [
    "import numpy as np\n",
    "import torch\n",
    "\n",
    "# 打印PyTorch版本\n",
    "print(f\"PyTorch version: {torch.__version__}\")\n",
    "\n",
    "# 检查GPU是否可用\n",
    "is_gpu_available = torch.cuda.is_available()\n",
    "print(f\"GPU is available: {is_gpu_available}\")"
   ]
  },
  {
   "cell_type": "code",
   "execution_count": 2,
   "id": "ae52ac37",
   "metadata": {},
   "outputs": [
    {
     "name": "stdout",
     "output_type": "stream",
     "text": [
      "tensor from list: tensor([[1, 2],\n",
      "        [3, 4]])\n"
     ]
    }
   ],
   "source": [
    "data = [[1, 2], [3, 4]]\n",
    "x_data = torch.tensor(data)\n",
    "print(f\"tensor from list: {x_data}\")"
   ]
  },
  {
   "cell_type": "code",
   "execution_count": 4,
   "id": "57fb5ea4",
   "metadata": {},
   "outputs": [
    {
     "name": "stdout",
     "output_type": "stream",
     "text": [
      "tensor from numpy: tensor([[1, 2],\n",
      "        [3, 4]])\n"
     ]
    }
   ],
   "source": [
    "np_array = np.array(data)\n",
    "x_np = torch.from_numpy(np_array)\n",
    "print(f\"tensor from numpy: {x_np}\")"
   ]
  },
  {
   "cell_type": "code",
   "execution_count": 5,
   "id": "cfa41871",
   "metadata": {},
   "outputs": [
    {
     "name": "stdout",
     "output_type": "stream",
     "text": [
      "Shape of tensor: torch.Size([3, 4])\n",
      "Datatype of tensor: torch.float32\n",
      "Device tensor is stored on: cpu\n"
     ]
    }
   ],
   "source": [
    "tensor = torch.rand(3, 4)\n",
    "\n",
    "print(f\"Shape of tensor: {tensor.shape}\")\n",
    "print(f\"Datatype of tensor: {tensor.dtype}\")\n",
    "print(f\"Device tensor is stored on: {tensor.device}\")"
   ]
  },
  {
   "cell_type": "code",
   "execution_count": 6,
   "id": "7956e10d",
   "metadata": {},
   "outputs": [
    {
     "name": "stdout",
     "output_type": "stream",
     "text": [
      "Original tensor:\n",
      " tensor([[1., 1., 1.],\n",
      "        [1., 1., 1.]])\n",
      "\n",
      "First row: tensor([1., 1., 1.])\n",
      "First column: tensor([1., 1.])\n",
      "Last element: 1.0\n",
      "\n",
      "Concatenated tensor (dim=1):\n",
      " tensor([[1., 1., 1., 1., 1., 1., 1., 1., 1.],\n",
      "        [1., 1., 1., 1., 1., 1., 1., 1., 1.]])\n",
      "\n",
      "Matrix multiplication result:\n",
      " tensor([[3., 3.],\n",
      "        [3., 3.]])\n",
      "\n",
      "Element-wise multiplication result:\n",
      " tensor([[1., 1., 1.],\n",
      "        [1., 1., 1.]])\n",
      "\n",
      "Sum of all elements: 6.0, Type: <class 'float'>\n"
     ]
    }
   ],
   "source": [
    "# --- Tensor Operations ---\n",
    "tensor = torch.ones(2, 3)  # 创建一个 2x3 的全1张量\n",
    "print(f\"Original tensor:\\n {tensor}\\n\")\n",
    "\n",
    "# 1. 索引和切片 (和Numpy一样)\n",
    "first_row = tensor[0]\n",
    "first_column = tensor[:, 0]\n",
    "last_element = tensor[-1, -1]\n",
    "print(f\"First row: {first_row}\")\n",
    "print(f\"First column: {first_column}\")\n",
    "print(f\"Last element: {last_element}\\n\")\n",
    "\n",
    "# 2. 拼接 Tensors\n",
    "# dim=1 表示按列（水平）拼接\n",
    "t1 = torch.cat([tensor, tensor, tensor], dim=1)\n",
    "print(f\"Concatenated tensor (dim=1):\\n {t1}\\n\")\n",
    "\n",
    "# 3. 数学运算\n",
    "# 矩阵乘法\n",
    "y1 = tensor @ tensor.T  # .T 是转置 (transpose)\n",
    "y2 = torch.matmul(tensor, tensor.T)\n",
    "print(f\"Matrix multiplication result:\\n {y1}\\n\")\n",
    "\n",
    "# 逐元素运算\n",
    "z1 = tensor * tensor  # 对应元素相乘\n",
    "z2 = tensor.mul(tensor)\n",
    "print(f\"Element-wise multiplication result:\\n {z1}\\n\")\n",
    "\n",
    "# 单一元素Tensor\n",
    "# 如果一个tensor只有一个元素，可以用.item()来获取它的Python数值\n",
    "agg = tensor.sum()\n",
    "agg_item = agg.item()\n",
    "print(f\"Sum of all elements: {agg_item}, Type: {type(agg_item)}\")"
   ]
  },
  {
   "cell_type": "code",
   "execution_count": null,
   "id": "cad32193",
   "metadata": {},
   "outputs": [],
   "source": []
  }
 ],
 "metadata": {
  "kernelspec": {
   "display_name": "legal_ai_mvp",
   "language": "python",
   "name": "python3"
  },
  "language_info": {
   "codemirror_mode": {
    "name": "ipython",
    "version": 3
   },
   "file_extension": ".py",
   "mimetype": "text/x-python",
   "name": "python",
   "nbconvert_exporter": "python",
   "pygments_lexer": "ipython3",
   "version": "3.10.18"
  }
 },
 "nbformat": 4,
 "nbformat_minor": 5
}
