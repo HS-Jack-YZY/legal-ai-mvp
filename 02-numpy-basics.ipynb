{
 "cells": [
  {
   "cell_type": "code",
   "execution_count": 5,
   "id": "47b42289",
   "metadata": {},
   "outputs": [
    {
     "name": "stdout",
     "output_type": "stream",
     "text": [
      "--- 一维数组 ---\n",
      "这是一个Numpy数组: [1 2 3 4 5]\n",
      "它的类型是: <class 'numpy.ndarray'>\n",
      "数组的维度 (秩): 1\n",
      "数组的形状 (shape): (5,)\n",
      "数组中元素的类型: int64\n",
      "\n",
      "--- 二维数组 ---\n",
      "这是一个二维数组:\n",
      "[[1 2 3]\n",
      " [4 5 6]]\n",
      "二维数组的维度: 2\n",
      "二维数组的形状: (2, 3)\n",
      "数组中元素的总数: 6\n"
     ]
    }
   ],
   "source": [
    "# 1. 导入Numpy库，通常简写为np\n",
    "import numpy as np\n",
    "\n",
    "# 2. 从Python列表创建一个一维Numpy数组\n",
    "my_list = [1, 2, 3, 4, 5]\n",
    "np_array_1d = np.array(my_list)\n",
    "\n",
    "print(\"--- 一维数组 ---\")\n",
    "print(f\"这是一个Numpy数组: {np_array_1d}\")\n",
    "print(f\"它的类型是: {type(np_array_1d)}\") # <class 'numpy.ndarray'>\n",
    "\n",
    "# 3. 查看数组的属性\n",
    "print(f\"数组的维度 (秩): {np_array_1d.ndim}\")    # 1\n",
    "print(f\"数组的形状 (shape): {np_array_1d.shape}\") # (5,)\n",
    "print(f\"数组中元素的类型: {np_array_1d.dtype}\")  # int32 (根据你的系统可能不同)\n",
    "\n",
    "# 4. 从嵌套列表创建一个二维数组 (矩阵)\n",
    "my_nested_list = [[1, 2, 3], [4, 5, 6]]\n",
    "np_array_2d = np.array(my_nested_list)\n",
    "\n",
    "print(\"\\n--- 二维数组 ---\")\n",
    "print(\"这是一个二维数组:\")\n",
    "print(np_array_2d)\n",
    "print(f\"二维数组的维度: {np_array_2d.ndim}\")    # 2\n",
    "print(f\"二维数组的形状: {np_array_2d.shape}\") # (2, 3) -> 2行3列\n",
    "print(f\"数组中元素的总数: {np_array_2d.size}\") # 6"
   ]
  },
  {
   "cell_type": "code",
   "execution_count": 6,
   "id": "bb9bf215",
   "metadata": {},
   "outputs": [
    {
     "name": "stdout",
     "output_type": "stream",
     "text": [
      "--- 数组创建 ---\n",
      "全0数组:\n",
      "[[0. 0. 0. 0.]\n",
      " [0. 0. 0. 0.]]\n",
      "\n",
      "全1数组:\n",
      "[[1. 1.]\n",
      " [1. 1.]\n",
      " [1. 1.]]\n",
      "\n",
      "等差序列数组: [10 12 14 16 18]\n",
      "\n",
      "等间隔数组: [0.   0.25 0.5  0.75 1.  ]\n",
      "\n",
      "随机数组:\n",
      "[[0.49984117 0.84739509 0.02704845]\n",
      " [0.05003639 0.95012381 0.37161148]]\n",
      "\n",
      "--- 索引与切片 ---\n",
      "原始数组a: [0 1 2 3 4 5 6 7 8 9]\n",
      "a的第2到第5个元素: [2 3 4]\n",
      "a的前4个元素: [0 1 2 3]\n",
      "a从第4个元素开始到结尾: [4 5 6 7 8 9]\n",
      "\n",
      "二维数组b:\n",
      "[[ 1  2  3  4]\n",
      " [ 5  6  7  8]\n",
      " [ 9 10 11 12]]\n",
      "\n",
      "b的第1行第2列元素是: 7\n",
      "b的第1行: [5 6 7 8]\n",
      "b的第2列: [ 3  7 11]\n",
      "\n",
      "b的子矩阵 (前2行，1、2列):\n",
      "[[2 3]\n",
      " [6 7]]\n",
      "\n",
      "布尔掩码 (b > 5):\n",
      "[[False False False False]\n",
      " [False  True  True  True]\n",
      " [ True  True  True  True]]\n",
      "\n",
      "通过布尔掩码筛选出的元素:\n",
      "[ 6  7  8  9 10 11 12]\n"
     ]
    }
   ],
   "source": [
    "# --- 数组创建 ---\n",
    "print(\"--- 数组创建 ---\")\n",
    "# 创建一个全是0的数组\n",
    "zeros_array = np.zeros((2, 4)) # 创建一个2行4列的全0数组\n",
    "print(\"全0数组:\")\n",
    "print(zeros_array)\n",
    "\n",
    "# 创建一个全是1的数组\n",
    "ones_array = np.ones((3, 2)) # 创建一个3行2列的全1数组\n",
    "print(\"\\n全1数组:\")\n",
    "print(ones_array)\n",
    "\n",
    "# 创建一个等差序列数组 (类似Python的range)\n",
    "range_array = np.arange(10, 20, 2) # 从10开始，到20结束(不含)，步长为2\n",
    "print(f\"\\n等差序列数组: {range_array}\")\n",
    "\n",
    "# 创建一个指定数量的等间隔数组\n",
    "linspace_array = np.linspace(0, 1, 5) # 从0到1，均匀取5个点\n",
    "print(f\"\\n等间隔数组: {linspace_array}\")\n",
    "\n",
    "# 创建一个随机数组\n",
    "random_array = np.random.rand(2, 3) # 创建一个2x3的，0到1之间的随机数数组\n",
    "print(\"\\n随机数组:\")\n",
    "print(random_array)\n",
    "\n",
    "# --- 索引与切片 ---\n",
    "print(\"\\n--- 索引与切片 ---\")\n",
    "a = np.arange(10) # [0, 1, 2, 3, 4, 5, 6, 7, 8, 9]\n",
    "print(f\"原始数组a: {a}\")\n",
    "\n",
    "# 基本切片 (和Python列表类似)\n",
    "print(f\"a的第2到第5个元素: {a[2:5]}\")     # [2, 3, 4]\n",
    "print(f\"a的前4个元素: {a[:4]}\")          # [0, 1, 2, 3]\n",
    "print(f\"a从第4个元素开始到结尾: {a[4:]}\") # [4, 5, 6, 7, 8, 9]\n",
    "\n",
    "# 二维数组索引 (非常重要！)\n",
    "b = np.array([[1, 2, 3, 4], [5, 6, 7, 8], [9, 10, 11, 12]])\n",
    "print(\"\\n二维数组b:\")\n",
    "print(b)\n",
    "\n",
    "# 获取单个元素: b[行, 列]\n",
    "element = b[1, 2] # 第1行，第2列 (索引从0开始) -> 7\n",
    "print(f\"\\nb的第1行第2列元素是: {element}\")\n",
    "\n",
    "# 获取整行或整列\n",
    "row_1 = b[1, :] # 第1行所有列\n",
    "print(f\"b的第1行: {row_1}\")\n",
    "\n",
    "col_2 = b[:, 2] # 所有行，第2列\n",
    "print(f\"b的第2列: {col_2}\")\n",
    "\n",
    "# 获取子矩阵\n",
    "sub_matrix = b[:2, 1:3] # 前2行 (0,1), 第1、2列\n",
    "print(\"\\nb的子矩阵 (前2行，1、2列):\")\n",
    "print(sub_matrix)\n",
    "\n",
    "# 布尔索引 (非常强大！)\n",
    "# 找出数组b中所有大于5的元素\n",
    "bool_mask = b > 5\n",
    "print(\"\\n布尔掩码 (b > 5):\")\n",
    "print(bool_mask)\n",
    "\n",
    "print(\"\\n通过布尔掩码筛选出的元素:\")\n",
    "print(b[bool_mask]) # 或者直接写 b[b > 5]"
   ]
  },
  {
   "cell_type": "code",
   "execution_count": 7,
   "id": "616e2de0",
   "metadata": {},
   "outputs": [],
   "source": [
    "# --- 向量化运算 ---\n",
    "x = np.array([[1, 2], [3, 4]])\n",
    "y = np.array([[5, 6], [7, 8]])"
   ]
  },
  {
   "cell_type": "code",
   "execution_count": 9,
   "id": "7ff00b94",
   "metadata": {},
   "outputs": [
    {
     "name": "stdout",
     "output_type": "stream",
     "text": [
      "--- 逐元素运算 ---\n",
      "x + y:\n",
      "[[ 6  8]\n",
      " [10 12]]\n",
      "\n",
      "x - y:\n",
      "[[-4 -4]\n",
      " [-4 -4]]\n",
      "\n",
      "x * y (逐元素相乘):\n",
      "[[ 5 12]\n",
      " [21 32]]\n",
      "\n",
      "x / y (逐元素相除):\n",
      "[[0.2        0.33333333]\n",
      " [0.42857143 0.5       ]]\n",
      "\n",
      "sqrt(x) (逐元素开方):\n",
      "[[1.         1.41421356]\n",
      " [1.73205081 2.        ]]\n"
     ]
    }
   ],
   "source": [
    "print(\"--- 逐元素运算 ---\")\n",
    "print(\"x + y:\")\n",
    "print(x + y)\n",
    "\n",
    "print(\"\\nx - y:\")\n",
    "print(x - y)\n",
    "\n",
    "print(\"\\nx * y (逐元素相乘):\")\n",
    "print(x * y)\n",
    "\n",
    "print(\"\\nx / y (逐元素相除):\")\n",
    "print(x / y)\n",
    "\n",
    "print(\"\\nsqrt(x) (逐元素开方):\")\n",
    "print(np.sqrt(x))"
   ]
  },
  {
   "cell_type": "code",
   "execution_count": 11,
   "id": "ed36aa56",
   "metadata": {},
   "outputs": [
    {
     "name": "stdout",
     "output_type": "stream",
     "text": [
      "\n",
      "--- 矩阵乘法 ---\n",
      "x @ y (矩阵乘法):\n",
      "[[19 22]\n",
      " [43 50]]\n"
     ]
    }
   ],
   "source": [
    "# --- 矩阵乘法 (点积) ---\n",
    "print(\"\\n--- 矩阵乘法 ---\")\n",
    "# 两种方式，效果相同\n",
    "dot_product_1 = np.dot(x, y)\n",
    "dot_product_2 = x @ y\n",
    "print(\"x @ y (矩阵乘法):\")\n",
    "print(dot_product_2)"
   ]
  },
  {
   "cell_type": "code",
   "execution_count": 12,
   "id": "93060819",
   "metadata": {},
   "outputs": [
    {
     "name": "stdout",
     "output_type": "stream",
     "text": [
      "\n",
      "--- 聚合运算 ---\n",
      "原始数据:\n",
      "[[1 2 3]\n",
      " [4 5 6]]\n",
      "所有元素的和: 21\n",
      "所有元素的平均值: 3.5\n",
      "所有元素的最大值: 6\n"
     ]
    }
   ],
   "source": [
    "# --- 聚合运算 ---\n",
    "print(\"\\n--- 聚合运算 ---\")\n",
    "data = np.array([[1, 2, 3], [4, 5, 6]])\n",
    "print(\"原始数据:\")\n",
    "print(data)\n",
    "\n",
    "print(f\"所有元素的和: {np.sum(data)}\")\n",
    "print(f\"所有元素的平均值: {np.mean(data)}\")\n",
    "print(f\"所有元素的最大值: {np.max(data)}\")"
   ]
  },
  {
   "cell_type": "code",
   "execution_count": 13,
   "id": "3615a8cd",
   "metadata": {},
   "outputs": [
    {
     "name": "stdout",
     "output_type": "stream",
     "text": [
      "\n",
      "按列求和 (axis=0): [5 7 9]\n",
      "按行求和 (axis=1): [ 6 15]\n"
     ]
    }
   ],
   "source": [
    "# 沿指定轴(axis)运算\n",
    "# axis=0: 沿着列的方向进行计算 (对每一列求和)\n",
    "# axis=1: 沿着行的方向进行计算 (对每一行求和)\n",
    "print(f\"\\n按列求和 (axis=0): {np.sum(data, axis=0)}\") # [1+4, 2+5, 3+6] -> [5, 7, 9]\n",
    "print(f\"按行求和 (axis=1): {np.sum(data, axis=1)}\") # [1+2+3, 4+5+6] -> [6, 15]"
   ]
  },
  {
   "cell_type": "code",
   "execution_count": 17,
   "id": "d3580924",
   "metadata": {},
   "outputs": [
    {
     "name": "stdout",
     "output_type": "stream",
     "text": [
      "np_array_1d的和为：15\n"
     ]
    }
   ],
   "source": [
    "print(f\"np_array_1d的和为：{np.sum(np_array_1d, axis=0)}\")"
   ]
  },
  {
   "cell_type": "code",
   "execution_count": 18,
   "id": "e90f48fe",
   "metadata": {},
   "outputs": [
    {
     "name": "stdout",
     "output_type": "stream",
     "text": [
      "\n",
      "--- 广播 ---\n",
      "矩阵 + 向量 (广播):\n",
      "[[11 22 33]\n",
      " [14 25 36]\n",
      " [17 28 39]]\n"
     ]
    }
   ],
   "source": [
    "# --- 广播 (Broadcasting) ---\n",
    "# Numpy的另一个强大特性：可以对不同形状的数组进行运算\n",
    "print(\"\\n--- 广播 ---\")\n",
    "matrix = np.array([[1, 2, 3], [4, 5, 6], [7, 8, 9]])\n",
    "vector = np.array([10, 20, 30])\n",
    "\n",
    "# 将vector广播到matrix的每一行进行相加\n",
    "result = matrix + vector\n",
    "print(\"矩阵 + 向量 (广播):\")\n",
    "print(result)"
   ]
  },
  {
   "cell_type": "markdown",
   "id": "08f35d54",
   "metadata": {},
   "source": [
    "理解与思考：\n",
    "向量化是核心！永远优先使用 x + y 这样的向量化操作，而不是用for循环遍历数组元素再相加。\n",
    "x * y 和 x @ y 是完全不同的运算，前者是对应元素相乘，后者是标准的矩阵乘法。这是初学者常犯的错误。\n",
    "广播机制非常强大，它使得代码更简洁。其规则是：如果两个数组的形状不匹配，Numpy会尝试扩展（“广播”）较小数组的形状，以使其与较大数组的形状兼容。"
   ]
  },
  {
   "cell_type": "code",
   "execution_count": null,
   "id": "c822cbcb",
   "metadata": {},
   "outputs": [],
   "source": []
  }
 ],
 "metadata": {
  "kernelspec": {
   "display_name": "legal_ai_mvp",
   "language": "python",
   "name": "python3"
  },
  "language_info": {
   "codemirror_mode": {
    "name": "ipython",
    "version": 3
   },
   "file_extension": ".py",
   "mimetype": "text/x-python",
   "name": "python",
   "nbconvert_exporter": "python",
   "pygments_lexer": "ipython3",
   "version": "3.10.18"
  }
 },
 "nbformat": 4,
 "nbformat_minor": 5
}
